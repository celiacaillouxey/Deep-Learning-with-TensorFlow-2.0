{
 "cells": [
  {
   "cell_type": "code",
   "execution_count": 1,
   "id": "980aa6f0",
   "metadata": {},
   "outputs": [],
   "source": [
    "import numpy as np\n",
    "import matplotlib.pyplot as plt\n",
    "import tensorflow as tf"
   ]
  },
  {
   "cell_type": "code",
   "execution_count": 3,
   "id": "0c783af3",
   "metadata": {},
   "outputs": [
    {
     "data": {
      "text/plain": [
       "(1000, 1)"
      ]
     },
     "execution_count": 3,
     "metadata": {},
     "output_type": "execute_result"
    }
   ],
   "source": [
    "observations = 1000 # N\n",
    "\n",
    "# number of variables: k, x = k1, z = \n",
    "# vertical matrices\n",
    "xs = np.random.uniform(-10, 10, size = (observations, 1)) #x: var 1\n",
    "zs = np.random.uniform(-10, 10, (observations,1)) #z: var 2\n",
    "                \n",
    "generated_inputs = np.column_stack((xs, zs)) # stack into a matrix: n x k\n",
    "generated_inputs.shape\n",
    "\n",
    "noise = np.random.uniform(-1, 1, (observations, 1)) # same shape as xs, zs\n",
    "targets = 2*xs-3*zs + 5 + noise\n",
    "targets.shape # y: desired targets"
   ]
  },
  {
   "cell_type": "code",
   "execution_count": 4,
   "id": "f23e7a69",
   "metadata": {},
   "outputs": [],
   "source": [
    "# save inputs and targets as tensor (\"a 3D matrix\")\n",
    "np.savez('tensorflow_intro', inputs = generated_inputs, targets=targets)"
   ]
  },
  {
   "cell_type": "code",
   "execution_count": 7,
   "id": "e0db2123",
   "metadata": {},
   "outputs": [],
   "source": [
    "# loading data\n",
    "training_data = np.load('tensorflow_intro.npz')\n",
    "input_size = 2 # two variables, k=2\n",
    "output_size = 1 # m\n"
   ]
  },
  {
   "cell_type": "markdown",
   "id": "4c7bb47b",
   "metadata": {},
   "source": [
    "# employing tensorflows"
   ]
  },
  {
   "cell_type": "code",
   "execution_count": 14,
   "id": "2b04480e",
   "metadata": {},
   "outputs": [
    {
     "name": "stdout",
     "output_type": "stream",
     "text": [
      "Epoch 1/100\n",
      "32/32 [==============================] - 0s 645us/step - loss: 22.3553\n",
      "Epoch 2/100\n",
      "32/32 [==============================] - 0s 731us/step - loss: 4.4857\n",
      "Epoch 3/100\n",
      "32/32 [==============================] - 0s 635us/step - loss: 1.4744\n",
      "Epoch 4/100\n",
      "32/32 [==============================] - 0s 598us/step - loss: 0.6608\n",
      "Epoch 5/100\n",
      "32/32 [==============================] - 0s 638us/step - loss: 0.4211\n",
      "Epoch 6/100\n",
      "32/32 [==============================] - 0s 600us/step - loss: 0.3612\n",
      "Epoch 7/100\n",
      "32/32 [==============================] - 0s 600us/step - loss: 0.3454\n",
      "Epoch 8/100\n",
      "32/32 [==============================] - 0s 656us/step - loss: 0.3398\n",
      "Epoch 9/100\n",
      "32/32 [==============================] - 0s 599us/step - loss: 0.3417\n",
      "Epoch 10/100\n",
      "32/32 [==============================] - 0s 557us/step - loss: 0.3407\n",
      "Epoch 11/100\n",
      "32/32 [==============================] - 0s 565us/step - loss: 0.3422\n",
      "Epoch 12/100\n",
      "32/32 [==============================] - 0s 616us/step - loss: 0.3358\n",
      "Epoch 13/100\n",
      "32/32 [==============================] - 0s 618us/step - loss: 0.3360\n",
      "Epoch 14/100\n",
      "32/32 [==============================] - 0s 611us/step - loss: 0.3345\n",
      "Epoch 15/100\n",
      "32/32 [==============================] - 0s 568us/step - loss: 0.3388\n",
      "Epoch 16/100\n",
      "32/32 [==============================] - 0s 572us/step - loss: 0.3365\n",
      "Epoch 17/100\n",
      "32/32 [==============================] - 0s 703us/step - loss: 0.3383\n",
      "Epoch 18/100\n",
      "32/32 [==============================] - 0s 619us/step - loss: 0.3366\n",
      "Epoch 19/100\n",
      "32/32 [==============================] - 0s 612us/step - loss: 0.3361\n",
      "Epoch 20/100\n",
      "32/32 [==============================] - 0s 622us/step - loss: 0.3403\n",
      "Epoch 21/100\n",
      "32/32 [==============================] - 0s 908us/step - loss: 0.3338\n",
      "Epoch 22/100\n",
      "32/32 [==============================] - 0s 566us/step - loss: 0.3400\n",
      "Epoch 23/100\n",
      "32/32 [==============================] - 0s 594us/step - loss: 0.3370\n",
      "Epoch 24/100\n",
      "32/32 [==============================] - 0s 584us/step - loss: 0.3328\n",
      "Epoch 25/100\n",
      "32/32 [==============================] - 0s 572us/step - loss: 0.3340\n",
      "Epoch 26/100\n",
      "32/32 [==============================] - 0s 614us/step - loss: 0.3368\n",
      "Epoch 27/100\n",
      "32/32 [==============================] - 0s 625us/step - loss: 0.3346\n",
      "Epoch 28/100\n",
      "32/32 [==============================] - 0s 620us/step - loss: 0.3364\n",
      "Epoch 29/100\n",
      "32/32 [==============================] - 0s 675us/step - loss: 0.3386\n",
      "Epoch 30/100\n",
      "32/32 [==============================] - 0s 637us/step - loss: 0.3392\n",
      "Epoch 31/100\n",
      "32/32 [==============================] - 0s 562us/step - loss: 0.3368\n",
      "Epoch 32/100\n",
      "32/32 [==============================] - 0s 602us/step - loss: 0.3396\n",
      "Epoch 33/100\n",
      "32/32 [==============================] - 0s 514us/step - loss: 0.3458\n",
      "Epoch 34/100\n",
      "32/32 [==============================] - 0s 568us/step - loss: 0.3390\n",
      "Epoch 35/100\n",
      "32/32 [==============================] - 0s 572us/step - loss: 0.3353\n",
      "Epoch 36/100\n",
      "32/32 [==============================] - 0s 525us/step - loss: 0.3329\n",
      "Epoch 37/100\n",
      "32/32 [==============================] - 0s 586us/step - loss: 0.3376\n",
      "Epoch 38/100\n",
      "32/32 [==============================] - 0s 730us/step - loss: 0.3310\n",
      "Epoch 39/100\n",
      "32/32 [==============================] - 0s 621us/step - loss: 0.3396\n",
      "Epoch 40/100\n",
      "32/32 [==============================] - 0s 672us/step - loss: 0.3344\n",
      "Epoch 41/100\n",
      "32/32 [==============================] - 0s 596us/step - loss: 0.3440\n",
      "Epoch 42/100\n",
      "32/32 [==============================] - 0s 575us/step - loss: 0.3405\n",
      "Epoch 43/100\n",
      "32/32 [==============================] - 0s 628us/step - loss: 0.3359\n",
      "Epoch 44/100\n",
      "32/32 [==============================] - 0s 697us/step - loss: 0.3386\n",
      "Epoch 45/100\n",
      "32/32 [==============================] - 0s 567us/step - loss: 0.3374\n",
      "Epoch 46/100\n",
      "32/32 [==============================] - 0s 606us/step - loss: 0.3339\n",
      "Epoch 47/100\n",
      "32/32 [==============================] - 0s 632us/step - loss: 0.3425\n",
      "Epoch 48/100\n",
      "32/32 [==============================] - 0s 612us/step - loss: 0.3330\n",
      "Epoch 49/100\n",
      "32/32 [==============================] - 0s 628us/step - loss: 0.3353\n",
      "Epoch 50/100\n",
      "32/32 [==============================] - 0s 602us/step - loss: 0.3378\n",
      "Epoch 51/100\n",
      "32/32 [==============================] - 0s 631us/step - loss: 0.3443\n",
      "Epoch 52/100\n",
      "32/32 [==============================] - 0s 598us/step - loss: 0.3372\n",
      "Epoch 53/100\n",
      "32/32 [==============================] - 0s 569us/step - loss: 0.3411\n",
      "Epoch 54/100\n",
      "32/32 [==============================] - 0s 605us/step - loss: 0.3378\n",
      "Epoch 55/100\n",
      "32/32 [==============================] - 0s 645us/step - loss: 0.3361\n",
      "Epoch 56/100\n",
      "32/32 [==============================] - 0s 544us/step - loss: 0.3339\n",
      "Epoch 57/100\n",
      "32/32 [==============================] - 0s 593us/step - loss: 0.3332\n",
      "Epoch 58/100\n",
      "32/32 [==============================] - 0s 547us/step - loss: 0.3335\n",
      "Epoch 59/100\n",
      "32/32 [==============================] - 0s 580us/step - loss: 0.3367\n",
      "Epoch 60/100\n",
      "32/32 [==============================] - 0s 583us/step - loss: 0.3379\n",
      "Epoch 61/100\n",
      "32/32 [==============================] - 0s 557us/step - loss: 0.3410\n",
      "Epoch 62/100\n",
      "32/32 [==============================] - 0s 602us/step - loss: 0.3359\n",
      "Epoch 63/100\n",
      "32/32 [==============================] - 0s 571us/step - loss: 0.3341\n",
      "Epoch 64/100\n",
      "32/32 [==============================] - 0s 620us/step - loss: 0.3443\n",
      "Epoch 65/100\n",
      "32/32 [==============================] - 0s 558us/step - loss: 0.3384\n",
      "Epoch 66/100\n",
      "32/32 [==============================] - 0s 540us/step - loss: 0.3369\n",
      "Epoch 67/100\n",
      "32/32 [==============================] - 0s 545us/step - loss: 0.3344\n",
      "Epoch 68/100\n",
      "32/32 [==============================] - 0s 551us/step - loss: 0.3338\n",
      "Epoch 69/100\n",
      "32/32 [==============================] - 0s 546us/step - loss: 0.3332\n",
      "Epoch 70/100\n",
      "32/32 [==============================] - 0s 568us/step - loss: 0.3367\n",
      "Epoch 71/100\n",
      "32/32 [==============================] - 0s 587us/step - loss: 0.3320\n",
      "Epoch 72/100\n",
      "32/32 [==============================] - 0s 556us/step - loss: 0.3360\n",
      "Epoch 73/100\n",
      "32/32 [==============================] - 0s 576us/step - loss: 0.3405\n",
      "Epoch 74/100\n",
      "32/32 [==============================] - 0s 566us/step - loss: 0.3320\n",
      "Epoch 75/100\n",
      "32/32 [==============================] - 0s 597us/step - loss: 0.3364\n",
      "Epoch 76/100\n",
      "32/32 [==============================] - 0s 579us/step - loss: 0.3506\n",
      "Epoch 77/100\n",
      "32/32 [==============================] - 0s 590us/step - loss: 0.3308\n",
      "Epoch 78/100\n",
      "32/32 [==============================] - 0s 657us/step - loss: 0.3393\n",
      "Epoch 79/100\n",
      "32/32 [==============================] - 0s 554us/step - loss: 0.3384\n",
      "Epoch 80/100\n",
      "32/32 [==============================] - 0s 583us/step - loss: 0.3315\n",
      "Epoch 81/100\n",
      "32/32 [==============================] - 0s 608us/step - loss: 0.3410\n",
      "Epoch 82/100\n",
      "32/32 [==============================] - 0s 621us/step - loss: 0.3375\n",
      "Epoch 83/100\n",
      "32/32 [==============================] - 0s 556us/step - loss: 0.3336\n",
      "Epoch 84/100\n",
      "32/32 [==============================] - 0s 575us/step - loss: 0.3320\n",
      "Epoch 85/100\n",
      "32/32 [==============================] - 0s 532us/step - loss: 0.3341\n",
      "Epoch 86/100\n",
      "32/32 [==============================] - 0s 543us/step - loss: 0.3405\n",
      "Epoch 87/100\n",
      "32/32 [==============================] - 0s 556us/step - loss: 0.3450\n",
      "Epoch 88/100\n",
      "32/32 [==============================] - 0s 570us/step - loss: 0.3326\n",
      "Epoch 89/100\n",
      "32/32 [==============================] - 0s 572us/step - loss: 0.3416\n",
      "Epoch 90/100\n",
      "32/32 [==============================] - 0s 577us/step - loss: 0.3379\n",
      "Epoch 91/100\n",
      "32/32 [==============================] - 0s 525us/step - loss: 0.3332\n",
      "Epoch 92/100\n",
      "32/32 [==============================] - 0s 630us/step - loss: 0.3337\n",
      "Epoch 93/100\n",
      "32/32 [==============================] - 0s 581us/step - loss: 0.3449\n",
      "Epoch 94/100\n",
      "32/32 [==============================] - 0s 596us/step - loss: 0.3393\n",
      "Epoch 95/100\n",
      "32/32 [==============================] - 0s 629us/step - loss: 0.3329\n",
      "Epoch 96/100\n",
      "32/32 [==============================] - 0s 542us/step - loss: 0.3358\n",
      "Epoch 97/100\n",
      "32/32 [==============================] - 0s 569us/step - loss: 0.3378\n",
      "Epoch 98/100\n",
      "32/32 [==============================] - 0s 554us/step - loss: 0.3379\n",
      "Epoch 99/100\n"
     ]
    },
    {
     "name": "stdout",
     "output_type": "stream",
     "text": [
      "32/32 [==============================] - 0s 541us/step - loss: 0.3368\n",
      "Epoch 100/100\n",
      "32/32 [==============================] - 0s 536us/step - loss: 0.3451\n"
     ]
    },
    {
     "data": {
      "text/plain": [
       "<keras.callbacks.History at 0x1d51dc91a60>"
      ]
     },
     "execution_count": 14,
     "metadata": {},
     "output_type": "execute_result"
    }
   ],
   "source": [
    "# build model \n",
    "\n",
    "# tf.keras.layers.Dense(): takes the inputs provided to the model and calculates \n",
    "# the dot product of the input and weights and adds the bias. I.e. \n",
    "# I.e. outputs = np.dot(inputs, weights) + biases # 1000x2 dot 2x1 + 1x1\n",
    "model=tf.keras.Sequential([\n",
    "    tf.keras.layers.Dense(output_size)\n",
    "])\n",
    "# objective function + optimization algorithm\n",
    "# SGD: stochaistic gradient descent\n",
    "# mean_squared_error: L2\n",
    "model.compile(optimizer='sgd', loss ='mean_squared_error')\n",
    "\n",
    "#fitting the model\n",
    "#  epoch: number of iterations\n",
    "# verbose: 0: silent, 1: progress bar, verbose: 2\n",
    "model.fit(training_data['inputs'], training_data['targets'], epochs=100, verbose=1)"
   ]
  },
  {
   "cell_type": "code",
   "execution_count": 22,
   "id": "e5b127bc",
   "metadata": {},
   "outputs": [
    {
     "name": "stdout",
     "output_type": "stream",
     "text": [
      "[[ 1.9983836]\n",
      " [-2.989361 ]] [4.9976044]\n"
     ]
    }
   ],
   "source": [
    "# weight and biases\n",
    "weights=model.layers[0].get_weights()[0]\n",
    "biases=model.layers[0].get_weights()[1]\n",
    "print(weights, biases)"
   ]
  },
  {
   "cell_type": "code",
   "execution_count": 28,
   "id": "42002f1f",
   "metadata": {},
   "outputs": [],
   "source": [
    "# EXTRACT OUTPUT\n",
    "y = model.predict_on_batch(training_data['inputs']).round(1)"
   ]
  },
  {
   "cell_type": "code",
   "execution_count": 31,
   "id": "6e6f8431",
   "metadata": {},
   "outputs": [
    {
     "data": {
      "text/plain": [
       "Text(0, 0.5, 'targets')"
      ]
     },
     "execution_count": 31,
     "metadata": {},
     "output_type": "execute_result"
    },
    {
     "data": {
      "image/png": "[encoded data removed]",
      "text/plain": [
       "<Figure size 432x288 with 1 Axes>"
      ]
     },
     "metadata": {
      "needs_background": "light"
     },
     "output_type": "display_data"
    }
   ],
   "source": [
    "y_plot= np.squeeze(y)\n",
    "t_plot= np.squeeze(training_data['targets'])\n",
    "fig = plt.figure()\n",
    "plt.plot(y_plot, t_plot)\n",
    "plt.xlabel('outputs')\n",
    "plt.ylabel('targets')"
   ]
  },
  {
   "cell_type": "code",
   "execution_count": null,
   "id": "3af36aa6",
   "metadata": {},
   "outputs": [],
   "source": []
  }
 ],
 "metadata": {
  "kernelspec": {
   "display_name": "Python 3 (ipykernel)",
   "language": "python",
   "name": "python3"
  },
  "language_info": {
   "codemirror_mode": {
    "name": "ipython",
    "version": 3
   },
   "file_extension": ".py",
   "mimetype": "text/x-python",
   "name": "python",
   "nbconvert_exporter": "python",
   "pygments_lexer": "ipython3",
   "version": "3.9.12"
  }
 },
 "nbformat": 4,
 "nbformat_minor": 5
}
